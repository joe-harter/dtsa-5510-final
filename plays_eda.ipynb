{
 "cells": [
  {
   "cell_type": "code",
   "execution_count": 2,
   "id": "79403b35",
   "metadata": {},
   "outputs": [],
   "source": [
    "import pandas as pd\n",
    "import seaborn as sns\n",
    "import matplotlib.pyplot as plt\n",
    "import numpy as np\n"
   ]
  },
  {
   "cell_type": "code",
   "execution_count": 3,
   "id": "7dca9719",
   "metadata": {},
   "outputs": [
    {
     "name": "stdout",
     "output_type": "stream",
     "text": [
      "(16124, 50)\n"
     ]
    },
    {
     "data": {
      "text/html": [
       "<div>\n",
       "<style scoped>\n",
       "    .dataframe tbody tr th:only-of-type {\n",
       "        vertical-align: middle;\n",
       "    }\n",
       "\n",
       "    .dataframe tbody tr th {\n",
       "        vertical-align: top;\n",
       "    }\n",
       "\n",
       "    .dataframe thead th {\n",
       "        text-align: right;\n",
       "    }\n",
       "</style>\n",
       "<table border=\"1\" class=\"dataframe\">\n",
       "  <thead>\n",
       "    <tr style=\"text-align: right;\">\n",
       "      <th></th>\n",
       "      <th>gameId</th>\n",
       "      <th>playId</th>\n",
       "      <th>playDescription</th>\n",
       "      <th>quarter</th>\n",
       "      <th>down</th>\n",
       "      <th>yardsToGo</th>\n",
       "      <th>possessionTeam</th>\n",
       "      <th>defensiveTeam</th>\n",
       "      <th>yardlineSide</th>\n",
       "      <th>yardlineNumber</th>\n",
       "      <th>...</th>\n",
       "      <th>yardsGained</th>\n",
       "      <th>homeTeamWinProbabilityAdded</th>\n",
       "      <th>visitorTeamWinProbilityAdded</th>\n",
       "      <th>expectedPointsAdded</th>\n",
       "      <th>isDropback</th>\n",
       "      <th>pff_runConceptPrimary</th>\n",
       "      <th>pff_runConceptSecondary</th>\n",
       "      <th>pff_runPassOption</th>\n",
       "      <th>pff_passCoverage</th>\n",
       "      <th>pff_manZone</th>\n",
       "    </tr>\n",
       "  </thead>\n",
       "  <tbody>\n",
       "    <tr>\n",
       "      <th>0</th>\n",
       "      <td>2022102302</td>\n",
       "      <td>2655</td>\n",
       "      <td>(1:54) (Shotgun) J.Burrow pass short middle to...</td>\n",
       "      <td>3</td>\n",
       "      <td>1</td>\n",
       "      <td>10</td>\n",
       "      <td>CIN</td>\n",
       "      <td>ATL</td>\n",
       "      <td>CIN</td>\n",
       "      <td>21</td>\n",
       "      <td>...</td>\n",
       "      <td>9</td>\n",
       "      <td>0.004634</td>\n",
       "      <td>-0.004634</td>\n",
       "      <td>0.702717</td>\n",
       "      <td>True</td>\n",
       "      <td>NaN</td>\n",
       "      <td>NaN</td>\n",
       "      <td>0</td>\n",
       "      <td>Cover-3</td>\n",
       "      <td>Zone</td>\n",
       "    </tr>\n",
       "    <tr>\n",
       "      <th>1</th>\n",
       "      <td>2022091809</td>\n",
       "      <td>3698</td>\n",
       "      <td>(2:13) (Shotgun) J.Burrow pass short right to ...</td>\n",
       "      <td>4</td>\n",
       "      <td>1</td>\n",
       "      <td>10</td>\n",
       "      <td>CIN</td>\n",
       "      <td>DAL</td>\n",
       "      <td>CIN</td>\n",
       "      <td>8</td>\n",
       "      <td>...</td>\n",
       "      <td>4</td>\n",
       "      <td>0.002847</td>\n",
       "      <td>-0.002847</td>\n",
       "      <td>-0.240509</td>\n",
       "      <td>True</td>\n",
       "      <td>NaN</td>\n",
       "      <td>NaN</td>\n",
       "      <td>0</td>\n",
       "      <td>Quarters</td>\n",
       "      <td>Zone</td>\n",
       "    </tr>\n",
       "    <tr>\n",
       "      <th>2</th>\n",
       "      <td>2022103004</td>\n",
       "      <td>3146</td>\n",
       "      <td>(2:00) (Shotgun) D.Mills pass short right to D...</td>\n",
       "      <td>4</td>\n",
       "      <td>3</td>\n",
       "      <td>12</td>\n",
       "      <td>HOU</td>\n",
       "      <td>TEN</td>\n",
       "      <td>HOU</td>\n",
       "      <td>20</td>\n",
       "      <td>...</td>\n",
       "      <td>6</td>\n",
       "      <td>0.000205</td>\n",
       "      <td>-0.000205</td>\n",
       "      <td>-0.218480</td>\n",
       "      <td>True</td>\n",
       "      <td>NaN</td>\n",
       "      <td>NaN</td>\n",
       "      <td>0</td>\n",
       "      <td>Quarters</td>\n",
       "      <td>Zone</td>\n",
       "    </tr>\n",
       "    <tr>\n",
       "      <th>3</th>\n",
       "      <td>2022110610</td>\n",
       "      <td>348</td>\n",
       "      <td>(9:28) (Shotgun) P.Mahomes pass short left to ...</td>\n",
       "      <td>1</td>\n",
       "      <td>2</td>\n",
       "      <td>10</td>\n",
       "      <td>KC</td>\n",
       "      <td>TEN</td>\n",
       "      <td>TEN</td>\n",
       "      <td>23</td>\n",
       "      <td>...</td>\n",
       "      <td>4</td>\n",
       "      <td>-0.001308</td>\n",
       "      <td>0.001308</td>\n",
       "      <td>-0.427749</td>\n",
       "      <td>True</td>\n",
       "      <td>NaN</td>\n",
       "      <td>NaN</td>\n",
       "      <td>0</td>\n",
       "      <td>Quarters</td>\n",
       "      <td>Zone</td>\n",
       "    </tr>\n",
       "    <tr>\n",
       "      <th>4</th>\n",
       "      <td>2022102700</td>\n",
       "      <td>2799</td>\n",
       "      <td>(2:16) (Shotgun) L.Jackson up the middle to TB...</td>\n",
       "      <td>3</td>\n",
       "      <td>2</td>\n",
       "      <td>8</td>\n",
       "      <td>BAL</td>\n",
       "      <td>TB</td>\n",
       "      <td>TB</td>\n",
       "      <td>27</td>\n",
       "      <td>...</td>\n",
       "      <td>-1</td>\n",
       "      <td>0.027141</td>\n",
       "      <td>-0.027141</td>\n",
       "      <td>-0.638912</td>\n",
       "      <td>False</td>\n",
       "      <td>MAN</td>\n",
       "      <td>READ OPTION</td>\n",
       "      <td>0</td>\n",
       "      <td>Cover-1</td>\n",
       "      <td>Man</td>\n",
       "    </tr>\n",
       "  </tbody>\n",
       "</table>\n",
       "<p>5 rows × 50 columns</p>\n",
       "</div>"
      ],
      "text/plain": [
       "       gameId  playId                                    playDescription  \\\n",
       "0  2022102302    2655  (1:54) (Shotgun) J.Burrow pass short middle to...   \n",
       "1  2022091809    3698  (2:13) (Shotgun) J.Burrow pass short right to ...   \n",
       "2  2022103004    3146  (2:00) (Shotgun) D.Mills pass short right to D...   \n",
       "3  2022110610     348  (9:28) (Shotgun) P.Mahomes pass short left to ...   \n",
       "4  2022102700    2799  (2:16) (Shotgun) L.Jackson up the middle to TB...   \n",
       "\n",
       "   quarter  down  yardsToGo possessionTeam defensiveTeam yardlineSide  \\\n",
       "0        3     1         10            CIN           ATL          CIN   \n",
       "1        4     1         10            CIN           DAL          CIN   \n",
       "2        4     3         12            HOU           TEN          HOU   \n",
       "3        1     2         10             KC           TEN          TEN   \n",
       "4        3     2          8            BAL            TB           TB   \n",
       "\n",
       "   yardlineNumber  ... yardsGained  homeTeamWinProbabilityAdded  \\\n",
       "0              21  ...           9                     0.004634   \n",
       "1               8  ...           4                     0.002847   \n",
       "2              20  ...           6                     0.000205   \n",
       "3              23  ...           4                    -0.001308   \n",
       "4              27  ...          -1                     0.027141   \n",
       "\n",
       "   visitorTeamWinProbilityAdded expectedPointsAdded  isDropback  \\\n",
       "0                     -0.004634            0.702717        True   \n",
       "1                     -0.002847           -0.240509        True   \n",
       "2                     -0.000205           -0.218480        True   \n",
       "3                      0.001308           -0.427749        True   \n",
       "4                     -0.027141           -0.638912       False   \n",
       "\n",
       "   pff_runConceptPrimary  pff_runConceptSecondary  pff_runPassOption  \\\n",
       "0                    NaN                      NaN                  0   \n",
       "1                    NaN                      NaN                  0   \n",
       "2                    NaN                      NaN                  0   \n",
       "3                    NaN                      NaN                  0   \n",
       "4                    MAN              READ OPTION                  0   \n",
       "\n",
       "  pff_passCoverage pff_manZone  \n",
       "0          Cover-3        Zone  \n",
       "1         Quarters        Zone  \n",
       "2         Quarters        Zone  \n",
       "3         Quarters        Zone  \n",
       "4          Cover-1         Man  \n",
       "\n",
       "[5 rows x 50 columns]"
      ]
     },
     "execution_count": 3,
     "metadata": {},
     "output_type": "execute_result"
    }
   ],
   "source": [
    "plays = pd.read_csv('./data/plays.csv')\n",
    "print(plays.shape)\n",
    "plays.head()"
   ]
  },
  {
   "cell_type": "code",
   "execution_count": 4,
   "id": "74743f15",
   "metadata": {},
   "outputs": [
    {
     "name": "stdout",
     "output_type": "stream",
     "text": [
      "             gameId        playId       quarter          down     yardsToGo  \\\n",
      "count  1.612400e+04  16124.000000  16124.000000  16124.000000  16124.000000   \n",
      "mean   2.022099e+09   2023.830563      2.572253      1.800794      8.461300   \n",
      "std    5.979252e+03   1182.090771      1.135404      0.827194      3.908658   \n",
      "min    2.022091e+09     54.000000      1.000000      1.000000      1.000000   \n",
      "25%    2.022093e+09    996.000000      2.000000      1.000000      6.000000   \n",
      "50%    2.022101e+09   2017.000000      3.000000      2.000000     10.000000   \n",
      "75%    2.022102e+09   3022.000000      4.000000      2.000000     10.000000   \n",
      "max    2.022111e+09   5120.000000      5.000000      4.000000     38.000000   \n",
      "\n",
      "       yardlineNumber  preSnapHomeScore  preSnapVisitorScore  \\\n",
      "count    16124.000000      16124.000000         16124.000000   \n",
      "mean        29.226185         11.255830            10.049615   \n",
      "std         12.662828          9.468489             9.224680   \n",
      "min          1.000000          0.000000             0.000000   \n",
      "25%         21.000000          3.000000             0.000000   \n",
      "50%         30.000000         10.000000             7.000000   \n",
      "75%         40.000000         17.000000            16.000000   \n",
      "max         50.000000         49.000000            48.000000   \n",
      "\n",
      "       absoluteYardlineNumber  preSnapHomeTeamWinProbability  ...  \\\n",
      "count            16124.000000                   16124.000000  ...   \n",
      "mean                60.413483                       0.552007  ...   \n",
      "std                 24.326003                       0.290603  ...   \n",
      "min                 11.000000                       0.001049  ...   \n",
      "25%                 40.000000                       0.324613  ...   \n",
      "50%                 61.000000                       0.578922  ...   \n",
      "75%                 81.000000                       0.791601  ...   \n",
      "max                109.000000                       0.999197  ...   \n",
      "\n",
      "       timeInTackleBox  timeToSack       qbKneel  penaltyYards  \\\n",
      "count      8917.000000  608.000000  16124.000000    384.000000   \n",
      "mean          2.632755    4.515796      0.010233      1.333333   \n",
      "std           0.817805    1.314407      0.100643      8.785422   \n",
      "min           0.000000    2.135000      0.000000    -20.000000   \n",
      "25%           2.079000    3.643750      0.000000      0.000000   \n",
      "50%           2.569000    4.249000      0.000000      0.000000   \n",
      "75%           3.100000    5.139000      0.000000      5.000000   \n",
      "max           7.400000   11.912000      1.000000     15.000000   \n",
      "\n",
      "       prePenaltyYardsGained   yardsGained  homeTeamWinProbabilityAdded  \\\n",
      "count           16124.000000  16124.000000                 16124.000000   \n",
      "mean                5.475254      5.460618                    -0.000065   \n",
      "std                 8.622005      8.833095                     0.041561   \n",
      "min               -18.000000    -68.000000                    -0.834887   \n",
      "25%                 0.000000      0.000000                    -0.012808   \n",
      "50%                 3.000000      3.000000                     0.000000   \n",
      "75%                 8.000000      8.000000                     0.013166   \n",
      "max                98.000000     98.000000                     0.541161   \n",
      "\n",
      "       visitorTeamWinProbilityAdded  expectedPointsAdded  pff_runPassOption  \n",
      "count                  16124.000000         16124.000000       16124.000000  \n",
      "mean                       0.000065            -0.029381           0.101340  \n",
      "std                        0.041561             1.397405           0.301787  \n",
      "min                       -0.541161           -13.023600           0.000000  \n",
      "25%                       -0.013166            -0.645440           0.000000  \n",
      "50%                        0.000000            -0.178783           0.000000  \n",
      "75%                        0.012808             0.696452           0.000000  \n",
      "max                        0.834887             8.698986           1.000000  \n",
      "\n",
      "[8 rows x 28 columns]\n"
     ]
    }
   ],
   "source": [
    "print(plays.describe())\n"
   ]
  },
  {
   "cell_type": "code",
   "execution_count": 6,
   "id": "43470577",
   "metadata": {},
   "outputs": [
    {
     "name": "stdout",
     "output_type": "stream",
     "text": [
      "Index(['gameId', 'playId', 'playDescription', 'quarter', 'down', 'yardsToGo',\n",
      "       'possessionTeam', 'defensiveTeam', 'yardlineSide', 'yardlineNumber',\n",
      "       'gameClock', 'preSnapHomeScore', 'preSnapVisitorScore',\n",
      "       'playNullifiedByPenalty', 'absoluteYardlineNumber',\n",
      "       'preSnapHomeTeamWinProbability', 'preSnapVisitorTeamWinProbability',\n",
      "       'expectedPoints', 'offenseFormation', 'receiverAlignment',\n",
      "       'playClockAtSnap', 'passResult', 'passLength', 'targetX', 'targetY',\n",
      "       'playAction', 'dropbackType', 'dropbackDistance', 'passLocationType',\n",
      "       'timeToThrow', 'timeInTackleBox', 'timeToSack', 'passTippedAtLine',\n",
      "       'unblockedPressure', 'qbSpike', 'qbKneel', 'qbSneak',\n",
      "       'rushLocationType', 'penaltyYards', 'prePenaltyYardsGained',\n",
      "       'yardsGained', 'homeTeamWinProbabilityAdded',\n",
      "       'visitorTeamWinProbilityAdded', 'expectedPointsAdded', 'isDropback',\n",
      "       'pff_runConceptPrimary', 'pff_runConceptSecondary', 'pff_runPassOption',\n",
      "       'pff_passCoverage', 'pff_manZone'],\n",
      "      dtype='object')\n"
     ]
    }
   ],
   "source": [
    "print(plays.columns)\n",
    "plays[['gameId', 'playId', 'playDescription', 'possessionTeam', 'absoluteYardlineNumber']].head().to_clipboard()"
   ]
  },
  {
   "cell_type": "code",
   "execution_count": null,
   "id": "2968ee26",
   "metadata": {},
   "outputs": [
    {
     "data": {
      "text/plain": [
       "Text(0.5, 1.0, 'Number of Plays per Quarter in Week 1 2022')"
      ]
     },
     "execution_count": 7,
     "metadata": {},
     "output_type": "execute_result"
    },
    {
     "data": {
      "image/png": "[encoded data removed]",
      "text/plain": [
       "<Figure size 640x480 with 1 Axes>"
      ]
     },
     "metadata": {},
     "output_type": "display_data"
    }
   ],
   "source": [
    "# Histogram of the number of plays per quarter using seaborn\n",
    "\n",
    "sns.histplot(data=plays, x='quarter', bins=4, discrete=True)\n",
    "plt.title(\"Number of Plays per Quarter in Week 1 2022\")"
   ]
  },
  {
   "cell_type": "code",
   "execution_count": 12,
   "id": "860b4e2c",
   "metadata": {},
   "outputs": [
    {
     "name": "stdout",
     "output_type": "stream",
     "text": [
      "count    16124.000000\n",
      "mean        60.413483\n",
      "std         24.326003\n",
      "min         11.000000\n",
      "25%         40.000000\n",
      "50%         61.000000\n",
      "75%         81.000000\n",
      "max        109.000000\n",
      "Name: absoluteYardlineNumber, dtype: float64\n"
     ]
    },
    {
     "data": {
      "text/plain": [
       "Text(0.5, 0, 'Absolute Yardline Number')"
      ]
     },
     "execution_count": 12,
     "metadata": {},
     "output_type": "execute_result"
    },
    {
     "data": {
      "image/png": "[encoded data removed]",
      "text/plain": [
       "<Figure size 640x480 with 1 Axes>"
      ]
     },
     "metadata": {},
     "output_type": "display_data"
    }
   ],
   "source": [
    "print(plays['absoluteYardlineNumber'].describe())\n",
    "sns.histplot(data=plays, x='absoluteYardlineNumber', binwidth=10)\n",
    "plt.title(\"Distribution of Absolute Yardline Number in Week 1 2022\")\n",
    "plt.xlabel(\"Absolute Yardline Number\")"
   ]
  }
 ],
 "metadata": {
  "kernelspec": {
   "display_name": "dtsa5510final",
   "language": "python",
   "name": "python3"
  },
  "language_info": {
   "codemirror_mode": {
    "name": "ipython",
    "version": 3
   },
   "file_extension": ".py",
   "mimetype": "text/x-python",
   "name": "python",
   "nbconvert_exporter": "python",
   "pygments_lexer": "ipython3",
   "version": "3.10.16"
  }
 },
 "nbformat": 4,
 "nbformat_minor": 5
}
