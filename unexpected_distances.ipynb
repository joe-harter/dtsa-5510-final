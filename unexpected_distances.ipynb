{
 "cells": [
  {
   "cell_type": "markdown",
   "id": "3d1c9822",
   "metadata": {},
   "source": [
    "This file is used to dig deeper into understanding why I see some distances from the ball for some positions that don't seem possible. (See figure 1 plot generated from tracking_eda.ipynb)"
   ]
  },
  {
   "cell_type": "code",
   "execution_count": null,
   "id": "9ae05d50",
   "metadata": {},
   "outputs": [],
   "source": [
    "import pandas as pd\n",
    "import seaborn as sns\n",
    "import matplotlib.pyplot as plt\n",
    "import numpy as np\n"
   ]
  },
  {
   "attachments": {
    "image.png": {
     "image/png": "[encoded data removed]"
    }
   },
   "cell_type": "markdown",
   "id": "c56c26b4",
   "metadata": {},
   "source": [
    "Figure 1 ![image.png](attachment:image.png)"
   ]
  },
  {
   "cell_type": "code",
   "execution_count": 12,
   "id": "bdefaf5f",
   "metadata": {},
   "outputs": [],
   "source": [
    "df = pd.read_csv('./data/tracking_week_1.csv')\n",
    "play_df = pd.read_csv('./data/plays.csv')\n",
    "players = pd.read_csv('./data/players.csv')\n",
    "\n",
    "formation_df = df[df['event'] == 'ball_snap']\n",
    "football_positions = formation_df[formation_df['displayName'] == 'football'][['gameId', 'playId', 'frameId', 'x', 'y']]\n",
    "football_positions = football_positions.rename(columns={'x': 'football_x', 'y': 'football_y'})\n",
    "\n",
    "# annotate the dataframe with whether the team is the offense or defense which can be pulled from the play_df possesionTeam column\n",
    "formation_df = formation_df.merge(play_df[['gameId', 'playId', 'possessionTeam']], on=['gameId', 'playId'], how='left')\n",
    "\n",
    "distance_df = formation_df.merge(football_positions, on=['gameId', 'playId', 'frameId'], how='left')\n",
    "distance_df = distance_df[distance_df['displayName'] != 'football']\n",
    "distance_df['distance_from_ball'] = np.sqrt((distance_df['x'] - distance_df['football_x'])**2 + (distance_df['y'] - distance_df['football_y'])**2)\n",
    "position_df = distance_df.merge(players[['position', 'nflId']], on='nflId', how='left')"
   ]
  },
  {
   "cell_type": "markdown",
   "id": "2a2bbd3e",
   "metadata": {},
   "source": [
    "I won't keep track of every bit of code I wrote to find every outlier and address it but in general I looked at specific plays where the distance for a specific position is outside of what seems reasonable and looked at the animation and also the data for that frame. "
   ]
  },
  {
   "cell_type": "code",
   "execution_count": 13,
   "id": "f1e2f529",
   "metadata": {},
   "outputs": [
    {
     "name": "stdout",
     "output_type": "stream",
     "text": [
      "           gameId  playId  frameId  distance_from_ball\n",
      "2210   2022091200    3515      139            1.260635\n",
      "2285   2022091200    3596      141            1.100727\n",
      "2482   2022091113      65       57            2.660168\n",
      "3799   2022091113    2307      155            1.064798\n",
      "4174   2022091113    2911      116            2.646830\n",
      "...           ...     ...      ...                 ...\n",
      "42759  2022090800    3576      121            1.928004\n",
      "42782  2022090800    3617        5            1.869544\n",
      "42804  2022090800    3636      102            1.946201\n",
      "42824  2022090800    3674      127            1.967587\n",
      "42844  2022090800    3696      122            2.056429\n",
      "\n",
      "[463 rows x 4 columns]\n"
     ]
    }
   ],
   "source": [
    "# position_df[(position_df['position'] == 'QB') & (position_df['distance_from_ball'] > 30)]\n",
    "\n",
    "# one problem was that the football was out of bounds at the snap which isn't possible\n",
    "# position_df[(position_df['football_x'] > 0) & (position_df['football_x'] < 120) & (position_df['football_y'] > 0) & (position_df['football_y'] < 53.3)]\n",
    "# Let's start with the idea that the center should always be within 1 yard of the football at the snap\n",
    "\n",
    "# These are longer than a yard but seem to be valid\n",
    "#           gameId  playId  frameId  distance_from_ball\n",
    "#42782  2022090800    3617        5            1.869544\n",
    "\n",
    "\n",
    "# These seem to be bead\n",
    "#           gameId  playId  frameId  distance_from_ball\n",
    "#42782  2022091113    65        57            2.66\n",
    "\n",
    "bad_plays = position_df[(position_df['position'] == 'C') & (position_df['distance_from_ball'] > 1)][['gameId', 'playId', 'frameId', 'distance_from_ball']]\n",
    "print(bad_plays)"
   ]
  },
  {
   "cell_type": "markdown",
   "id": "5d2e7065",
   "metadata": {},
   "source": [
    "It occurred that maybe the football data is unreliable but maybe the player data is more reliable. So let's use the center as the reference point."
   ]
  },
  {
   "cell_type": "code",
   "execution_count": 15,
   "id": "ae59ce5c",
   "metadata": {},
   "outputs": [
    {
     "data": {
      "text/plain": [
       "<Axes: xlabel='distance_from_C', ylabel='position'>"
      ]
     },
     "execution_count": 15,
     "metadata": {},
     "output_type": "execute_result"
    },
    {
     "data": {
      "image/png": "[encoded data removed]",
      "text/plain": [
       "<Figure size 640x480 with 1 Axes>"
      ]
     },
     "metadata": {},
     "output_type": "display_data"
    }
   ],
   "source": [
    "df = pd.read_csv('./data/tracking_week_1.csv')\n",
    "play_df = pd.read_csv('./data/plays.csv')\n",
    "players = pd.read_csv('./data/players.csv')\n",
    "\n",
    "formation_df = df[df['event'] == 'ball_snap']\n",
    "formation_df = formation_df.merge(play_df[['gameId', 'playId', 'possessionTeam']], on=['gameId', 'playId'], how='left')\n",
    "position_df = formation_df.merge(players[['position', 'nflId']], on='nflId', how='left')\n",
    "\n",
    "center_positions = position_df[position_df['position'] == 'C'][['gameId', 'playId', 'frameId', 'x', 'y']]\n",
    "center_positions = center_positions.rename(columns={'x': 'football_x', 'y': 'football_y'})\n",
    "\n",
    "\n",
    "distance_df = position_df.merge(center_positions, on=['gameId', 'playId', 'frameId'], how='left')\n",
    "distance_df = distance_df[distance_df['displayName'] != 'football']\n",
    "\n",
    "distance_df['distance_from_C'] = np.sqrt((distance_df['x'] - distance_df['football_x'])**2 + (distance_df['y'] - distance_df['football_y'])**2)\n",
    "\n",
    "sns.histplot(\n",
    "    distance_df[(distance_df['possessionTeam'] == distance_df['club'])], x=\"distance_from_C\", y=\"position\", hue=\"position\", legend=False, binwidth=2\n",
    ")"
   ]
  },
  {
   "cell_type": "code",
   "execution_count": 21,
   "id": "f4c5855f",
   "metadata": {},
   "outputs": [
    {
     "name": "stdout",
     "output_type": "stream",
     "text": [
      "(30, 23)\n"
     ]
    },
    {
     "data": {
      "text/html": [
       "<div>\n",
       "<style scoped>\n",
       "    .dataframe tbody tr th:only-of-type {\n",
       "        vertical-align: middle;\n",
       "    }\n",
       "\n",
       "    .dataframe tbody tr th {\n",
       "        vertical-align: top;\n",
       "    }\n",
       "\n",
       "    .dataframe thead th {\n",
       "        text-align: right;\n",
       "    }\n",
       "</style>\n",
       "<table border=\"1\" class=\"dataframe\">\n",
       "  <thead>\n",
       "    <tr style=\"text-align: right;\">\n",
       "      <th></th>\n",
       "      <th>gameId</th>\n",
       "      <th>playId</th>\n",
       "      <th>nflId</th>\n",
       "      <th>displayName</th>\n",
       "      <th>frameId</th>\n",
       "      <th>frameType</th>\n",
       "      <th>time</th>\n",
       "      <th>jerseyNumber</th>\n",
       "      <th>club</th>\n",
       "      <th>playDirection</th>\n",
       "      <th>...</th>\n",
       "      <th>a</th>\n",
       "      <th>dis</th>\n",
       "      <th>o</th>\n",
       "      <th>dir</th>\n",
       "      <th>event</th>\n",
       "      <th>possessionTeam</th>\n",
       "      <th>position</th>\n",
       "      <th>football_x</th>\n",
       "      <th>football_y</th>\n",
       "      <th>distance_from_C</th>\n",
       "    </tr>\n",
       "  </thead>\n",
       "  <tbody>\n",
       "    <tr>\n",
       "      <th>1507</th>\n",
       "      <td>2022091200</td>\n",
       "      <td>2391</td>\n",
       "      <td>46096.0</td>\n",
       "      <td>Rashaad Penny</td>\n",
       "      <td>22</td>\n",
       "      <td>SNAP</td>\n",
       "      <td>2022-09-13 02:04:34.6</td>\n",
       "      <td>20.0</td>\n",
       "      <td>SEA</td>\n",
       "      <td>left</td>\n",
       "      <td>...</td>\n",
       "      <td>0.29</td>\n",
       "      <td>0.01</td>\n",
       "      <td>280.00</td>\n",
       "      <td>216.29</td>\n",
       "      <td>ball_snap</td>\n",
       "      <td>SEA</td>\n",
       "      <td>RB</td>\n",
       "      <td>99.58</td>\n",
       "      <td>23.66</td>\n",
       "      <td>22.572607</td>\n",
       "    </tr>\n",
       "    <tr>\n",
       "      <th>3712</th>\n",
       "      <td>2022091113</td>\n",
       "      <td>1812</td>\n",
       "      <td>44816.0</td>\n",
       "      <td>Leonard Fournette</td>\n",
       "      <td>146</td>\n",
       "      <td>SNAP</td>\n",
       "      <td>2022-09-12 01:34:59.4</td>\n",
       "      <td>7.0</td>\n",
       "      <td>TB</td>\n",
       "      <td>left</td>\n",
       "      <td>...</td>\n",
       "      <td>1.99</td>\n",
       "      <td>0.09</td>\n",
       "      <td>301.87</td>\n",
       "      <td>168.84</td>\n",
       "      <td>ball_snap</td>\n",
       "      <td>TB</td>\n",
       "      <td>RB</td>\n",
       "      <td>39.36</td>\n",
       "      <td>29.90</td>\n",
       "      <td>21.710525</td>\n",
       "    </tr>\n",
       "    <tr>\n",
       "      <th>5688</th>\n",
       "      <td>2022091108</td>\n",
       "      <td>705</td>\n",
       "      <td>43334.0</td>\n",
       "      <td>Derrick Henry</td>\n",
       "      <td>203</td>\n",
       "      <td>SNAP</td>\n",
       "      <td>2022-09-11 20:58:18.2</td>\n",
       "      <td>22.0</td>\n",
       "      <td>TEN</td>\n",
       "      <td>left</td>\n",
       "      <td>...</td>\n",
       "      <td>0.14</td>\n",
       "      <td>0.03</td>\n",
       "      <td>278.94</td>\n",
       "      <td>272.08</td>\n",
       "      <td>ball_snap</td>\n",
       "      <td>TEN</td>\n",
       "      <td>RB</td>\n",
       "      <td>100.88</td>\n",
       "      <td>29.69</td>\n",
       "      <td>20.766459</td>\n",
       "    </tr>\n",
       "    <tr>\n",
       "      <th>6010</th>\n",
       "      <td>2022091108</td>\n",
       "      <td>1110</td>\n",
       "      <td>43334.0</td>\n",
       "      <td>Derrick Henry</td>\n",
       "      <td>90</td>\n",
       "      <td>SNAP</td>\n",
       "      <td>2022-09-11 21:14:45.5</td>\n",
       "      <td>22.0</td>\n",
       "      <td>TEN</td>\n",
       "      <td>right</td>\n",
       "      <td>...</td>\n",
       "      <td>0.00</td>\n",
       "      <td>0.00</td>\n",
       "      <td>80.78</td>\n",
       "      <td>40.41</td>\n",
       "      <td>ball_snap</td>\n",
       "      <td>TEN</td>\n",
       "      <td>RB</td>\n",
       "      <td>71.28</td>\n",
       "      <td>29.79</td>\n",
       "      <td>20.777897</td>\n",
       "    </tr>\n",
       "    <tr>\n",
       "      <th>6263</th>\n",
       "      <td>2022091108</td>\n",
       "      <td>1461</td>\n",
       "      <td>43334.0</td>\n",
       "      <td>Derrick Henry</td>\n",
       "      <td>177</td>\n",
       "      <td>SNAP</td>\n",
       "      <td>2022-09-11 21:30:09.1</td>\n",
       "      <td>22.0</td>\n",
       "      <td>TEN</td>\n",
       "      <td>right</td>\n",
       "      <td>...</td>\n",
       "      <td>0.41</td>\n",
       "      <td>0.01</td>\n",
       "      <td>97.72</td>\n",
       "      <td>77.35</td>\n",
       "      <td>ball_snap</td>\n",
       "      <td>TEN</td>\n",
       "      <td>RB</td>\n",
       "      <td>29.11</td>\n",
       "      <td>23.72</td>\n",
       "      <td>21.173158</td>\n",
       "    </tr>\n",
       "  </tbody>\n",
       "</table>\n",
       "<p>5 rows × 23 columns</p>\n",
       "</div>"
      ],
      "text/plain": [
       "          gameId  playId    nflId        displayName  frameId frameType  \\\n",
       "1507  2022091200    2391  46096.0      Rashaad Penny       22      SNAP   \n",
       "3712  2022091113    1812  44816.0  Leonard Fournette      146      SNAP   \n",
       "5688  2022091108     705  43334.0      Derrick Henry      203      SNAP   \n",
       "6010  2022091108    1110  43334.0      Derrick Henry       90      SNAP   \n",
       "6263  2022091108    1461  43334.0      Derrick Henry      177      SNAP   \n",
       "\n",
       "                       time  jerseyNumber club playDirection  ...     a   dis  \\\n",
       "1507  2022-09-13 02:04:34.6          20.0  SEA          left  ...  0.29  0.01   \n",
       "3712  2022-09-12 01:34:59.4           7.0   TB          left  ...  1.99  0.09   \n",
       "5688  2022-09-11 20:58:18.2          22.0  TEN          left  ...  0.14  0.03   \n",
       "6010  2022-09-11 21:14:45.5          22.0  TEN         right  ...  0.00  0.00   \n",
       "6263  2022-09-11 21:30:09.1          22.0  TEN         right  ...  0.41  0.01   \n",
       "\n",
       "           o     dir      event  possessionTeam  position football_x  \\\n",
       "1507  280.00  216.29  ball_snap             SEA        RB      99.58   \n",
       "3712  301.87  168.84  ball_snap              TB        RB      39.36   \n",
       "5688  278.94  272.08  ball_snap             TEN        RB     100.88   \n",
       "6010   80.78   40.41  ball_snap             TEN        RB      71.28   \n",
       "6263   97.72   77.35  ball_snap             TEN        RB      29.11   \n",
       "\n",
       "     football_y distance_from_C  \n",
       "1507      23.66       22.572607  \n",
       "3712      29.90       21.710525  \n",
       "5688      29.69       20.766459  \n",
       "6010      29.79       20.777897  \n",
       "6263      23.72       21.173158  \n",
       "\n",
       "[5 rows x 23 columns]"
      ]
     },
     "execution_count": 21,
     "metadata": {},
     "output_type": "execute_result"
    }
   ],
   "source": [
    "# Ok I'll try to look at some outliers for the center distance\n",
    "\n",
    "# This was only one play where Jameis Winston lined up as a wide receiver. It's a limitation of this dataset that we can't change Jameis' position\n",
    "# But it is also sort of a trick play and could perhaps be used as is.\n",
    "# 1 row\n",
    "# qb_outliers = distance_df[(distance_df['position'] == 'QB') & (distance_df['distance_from_C'] > 15)]\n",
    "\n",
    "# Why would a center be more than one yard (perhaps because they are in as a tackle or guard) \n",
    "# 5 rows\n",
    "# c_outliers = distance_df[(distance_df['position'] == 'C') & (distance_df['distance_from_C'] > 1)]\n",
    "\n",
    "rb_outliers = distance_df[(distance_df['position'] == 'RB') & (distance_df['distance_from_C'] > 20)]\n",
    "print(rb_outliers.shape)\n",
    "rb_outliers.head()"
   ]
  },
  {
   "cell_type": "markdown",
   "id": "a43f60a1",
   "metadata": {},
   "source": []
  }
 ],
 "metadata": {
  "kernelspec": {
   "display_name": "dtsa5510final",
   "language": "python",
   "name": "python3"
  },
  "language_info": {
   "codemirror_mode": {
    "name": "ipython",
    "version": 3
   },
   "file_extension": ".py",
   "mimetype": "text/x-python",
   "name": "python",
   "nbconvert_exporter": "python",
   "pygments_lexer": "ipython3",
   "version": "3.10.16"
  }
 },
 "nbformat": 4,
 "nbformat_minor": 5
}
